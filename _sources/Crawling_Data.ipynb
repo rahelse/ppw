{
  "cells": [
    {
      "cell_type": "markdown",
      "metadata": {},
      "source": [
        "# Crawling Data "
      ]
    },
    {
      "cell_type": "code",
      "execution_count": 17,
      "metadata": {
        "colab": {
          "base_uri": "https://localhost:8080/"
        },
        "id": "br6O68Frmyo0",
        "outputId": "4bc121fa-8f99-4727-8c90-6375b26f0662"
      },
      "outputs": [
        {
          "name": "stdout",
          "output_type": "stream",
          "text": [
            "Requirement already satisfied: requests in /usr/local/lib/python3.12/dist-packages (2.32.4)\n",
            "Requirement already satisfied: beautifulsoup4 in /usr/local/lib/python3.12/dist-packages (4.13.5)\n",
            "Requirement already satisfied: pandas in /usr/local/lib/python3.12/dist-packages (2.2.2)\n",
            "Requirement already satisfied: flask in /usr/local/lib/python3.12/dist-packages (3.1.2)\n",
            "Requirement already satisfied: flask-ngrok in /usr/local/lib/python3.12/dist-packages (0.0.25)\n",
            "Requirement already satisfied: charset_normalizer<4,>=2 in /usr/local/lib/python3.12/dist-packages (from requests) (3.4.3)\n",
            "Requirement already satisfied: idna<4,>=2.5 in /usr/local/lib/python3.12/dist-packages (from requests) (3.10)\n",
            "Requirement already satisfied: urllib3<3,>=1.21.1 in /usr/local/lib/python3.12/dist-packages (from requests) (2.5.0)\n",
            "Requirement already satisfied: certifi>=2017.4.17 in /usr/local/lib/python3.12/dist-packages (from requests) (2025.8.3)\n",
            "Requirement already satisfied: soupsieve>1.2 in /usr/local/lib/python3.12/dist-packages (from beautifulsoup4) (2.7)\n",
            "Requirement already satisfied: typing-extensions>=4.0.0 in /usr/local/lib/python3.12/dist-packages (from beautifulsoup4) (4.15.0)\n",
            "Requirement already satisfied: numpy>=1.26.0 in /usr/local/lib/python3.12/dist-packages (from pandas) (2.0.2)\n",
            "Requirement already satisfied: python-dateutil>=2.8.2 in /usr/local/lib/python3.12/dist-packages (from pandas) (2.9.0.post0)\n",
            "Requirement already satisfied: pytz>=2020.1 in /usr/local/lib/python3.12/dist-packages (from pandas) (2025.2)\n",
            "Requirement already satisfied: tzdata>=2022.7 in /usr/local/lib/python3.12/dist-packages (from pandas) (2025.2)\n",
            "Requirement already satisfied: blinker>=1.9.0 in /usr/local/lib/python3.12/dist-packages (from flask) (1.9.0)\n",
            "Requirement already satisfied: click>=8.1.3 in /usr/local/lib/python3.12/dist-packages (from flask) (8.2.1)\n",
            "Requirement already satisfied: itsdangerous>=2.2.0 in /usr/local/lib/python3.12/dist-packages (from flask) (2.2.0)\n",
            "Requirement already satisfied: jinja2>=3.1.2 in /usr/local/lib/python3.12/dist-packages (from flask) (3.1.6)\n",
            "Requirement already satisfied: markupsafe>=2.1.1 in /usr/local/lib/python3.12/dist-packages (from flask) (3.0.2)\n",
            "Requirement already satisfied: werkzeug>=3.1.0 in /usr/local/lib/python3.12/dist-packages (from flask) (3.1.3)\n",
            "Requirement already satisfied: six>=1.5 in /usr/local/lib/python3.12/dist-packages (from python-dateutil>=2.8.2->pandas) (1.17.0)\n"
          ]
        }
      ],
      "source": [
        "!pip install requests beautifulsoup4 pandas flask flask-ngrok"
      ]
    },
    {
      "cell_type": "code",
      "execution_count": 19,
      "metadata": {
        "colab": {
          "base_uri": "https://localhost:8080/"
        },
        "id": "zkJ7gKy9mXLk",
        "outputId": "641f7248-e4bf-43ca-aae2-a993e5b4005c"
      },
      "outputs": [
        {
          "name": "stdout",
          "output_type": "stream",
          "text": [
            "\n",
            "🔎 Keyword: web mining\n",
            "Total hasil: 47419\n",
            "\n",
            "DOI: 10.1007/978-3-032-02088-8_5\n",
            "Title: ONFOODS: A Substitute Recommendation System in Food Recipes\n",
            "\n",
            "DOI: 10.1007/978-3-032-02515-9_5\n",
            "Title: A Silent Partner: The Shadow Presence of Generative Artificial Intelligence in Public Administrations\n",
            "\n",
            "DOI: 10.1007/s11600-025-01581-x\n",
            "Title: Assessment of climate change impacts and land cover dynamics in the Upper Sakarya Basin, Türkiye using the Collect Earth approach\n",
            "\n",
            "DOI: 10.1007/s10750-024-05761-6\n",
            "Title: Resilience of alpine lake macroinvertebrate communities to climate change: a view from the South Carpathian Mountains\n",
            "\n",
            "DOI: 10.1007/s11116-024-10487-4\n",
            "Title: Exploring the effect of perceived safety in first/last mile mode choices\n",
            "\n",
            "DOI: 10.1007/s11196-025-10299-4\n",
            "Title: The Language of Justice: Examining Courtroom Discourse in an Electoral Conflict\n",
            "\n",
            "DOI: 10.1007/s11116-024-10485-6\n",
            "Title: The influence of app function evolution on transport SuperApp use behaviour over time\n",
            "\n",
            "DOI: 10.1007/s10750-025-05871-9\n",
            "Title: Urbanization results in highly dynamic, degraded benthic macroinvertebrate communities in North Carolina streams\n",
            "\n",
            "DOI: 10.1007/s11116-024-10482-9\n",
            "Title: Multi-purpose pickup and delivery problem for combined passenger and freight transport\n",
            "\n",
            "DOI: 10.1007/s10115-025-02461-y\n",
            "Title: A comparative analysis of predictive process monitoring: object-centric versus classical event logs\n",
            "\n",
            "\n",
            "🔎 Keyword: web usage mining\n",
            "Total hasil: 13249\n",
            "\n",
            "DOI: 10.1007/978-3-032-02088-8_5\n",
            "Title: ONFOODS: A Substitute Recommendation System in Food Recipes\n",
            "\n",
            "DOI: 10.1007/978-3-032-02515-9_5\n",
            "Title: A Silent Partner: The Shadow Presence of Generative Artificial Intelligence in Public Administrations\n",
            "\n",
            "DOI: 10.1007/s11116-024-10485-6\n",
            "Title: The influence of app function evolution on transport SuperApp use behaviour over time\n",
            "\n",
            "DOI: 10.1007/s11196-025-10299-4\n",
            "Title: The Language of Justice: Examining Courtroom Discourse in an Electoral Conflict\n",
            "\n",
            "DOI: 10.1007/s11116-024-10487-4\n",
            "Title: Exploring the effect of perceived safety in first/last mile mode choices\n",
            "\n",
            "DOI: 10.1007/s11116-024-10482-9\n",
            "Title: Multi-purpose pickup and delivery problem for combined passenger and freight transport\n",
            "\n",
            "DOI: 10.1007/s10115-025-02461-y\n",
            "Title: A comparative analysis of predictive process monitoring: object-centric versus classical event logs\n",
            "\n",
            "DOI: 10.1007/s10115-025-02471-w\n",
            "Title: Effective and lightweight lossy compression of tensors: techniques and applications\n",
            "\n",
            "DOI: 10.1007/s40558-025-00327-1\n",
            "Title: A recommender-based web platform to boost tourism in marginal territories\n",
            "\n",
            "DOI: 10.1007/s12567-024-00589-1\n",
            "Title: Synthetic satellite telemetry data for machine learning\n",
            "\n",
            "\n",
            "🔎 Keyword: web structure mining\n",
            "Total hasil: 39322\n",
            "\n",
            "DOI: 10.1007/978-3-032-02088-8_5\n",
            "Title: ONFOODS: A Substitute Recommendation System in Food Recipes\n",
            "\n",
            "DOI: 10.1007/978-3-032-02515-9_5\n",
            "Title: A Silent Partner: The Shadow Presence of Generative Artificial Intelligence in Public Administrations\n",
            "\n",
            "DOI: 10.1007/s11600-025-01581-x\n",
            "Title: Assessment of climate change impacts and land cover dynamics in the Upper Sakarya Basin, Türkiye using the Collect Earth approach\n",
            "\n",
            "DOI: 10.1007/s10750-024-05761-6\n",
            "Title: Resilience of alpine lake macroinvertebrate communities to climate change: a view from the South Carpathian Mountains\n",
            "\n",
            "DOI: 10.1007/s10750-025-05871-9\n",
            "Title: Urbanization results in highly dynamic, degraded benthic macroinvertebrate communities in North Carolina streams\n",
            "\n",
            "DOI: 10.1007/s11196-025-10299-4\n",
            "Title: The Language of Justice: Examining Courtroom Discourse in an Electoral Conflict\n",
            "\n",
            "DOI: 10.1007/s11116-024-10487-4\n",
            "Title: Exploring the effect of perceived safety in first/last mile mode choices\n",
            "\n",
            "DOI: 10.1007/s11116-024-10482-9\n",
            "Title: Multi-purpose pickup and delivery problem for combined passenger and freight transport\n",
            "\n",
            "DOI: 10.1007/s10115-025-02461-y\n",
            "Title: A comparative analysis of predictive process monitoring: object-centric versus classical event logs\n",
            "\n",
            "DOI: 10.1007/s10115-025-02476-5\n",
            "Title: Beyond pairwise relationships: a transformer-based hypergraph learning approach for fraud detection\n",
            "\n",
            "\n",
            "✅ Data berhasil disimpan ke hasil_crawling.csv\n"
          ]
        }
      ],
      "source": [
        "import requests\n",
        "import pandas as pd\n",
        "\n",
        "api_key = \"21f9e290e8bff80e5b9c600b3d189db3\"\n",
        "\n",
        "keywords = [\"web mining\", \"web usage mining\", \"web structure mining\"]\n",
        "\n",
        "all_results = []\n",
        "\n",
        "for keyword in keywords:\n",
        "    url = \"https://api.springernature.com/openaccess/json\"  # pakai endpoint openaccess\n",
        "    params = {\n",
        "        \"q\": keyword,\n",
        "        \"api_key\": api_key,\n",
        "        \"p\": 10\n",
        "    }\n",
        "\n",
        "    response = requests.get(url, params=params)\n",
        "\n",
        "    if response.status_code == 200:\n",
        "        data = response.json()\n",
        "        print(f\"\\n🔎 Keyword: {keyword}\")\n",
        "        print(f\"Total hasil: {data['result'][0]['total']}\\n\")\n",
        "\n",
        "        for record in data['records']:\n",
        "            doi = record.get('doi', 'N/A')\n",
        "            title = record.get('title', 'No title')\n",
        "            abstract = record.get('abstract', 'No abstract')\n",
        "\n",
        "            all_results.append({\n",
        "                \"keyword\": keyword,\n",
        "                \"doi\": doi,\n",
        "                \"title\": title,\n",
        "                \"abstract\": abstract\n",
        "            })\n",
        "\n",
        "            print(f\"DOI: {doi}\")\n",
        "            print(f\"Title: {title}\\n\")\n",
        "    else:\n",
        "        print(\"❌ Error:\", response.status_code, response.text)\n",
        "\n",
        "df = pd.DataFrame(all_results)\n",
        "df.to_csv(\"hasil_crawling.csv\", index=False)\n",
        "print(\"\\n✅ Data berhasil disimpan ke hasil_crawling.csv\")"
      ]
    },
    {
      "cell_type": "code",
      "execution_count": null,
      "metadata": {
        "id": "-zNVEk9XqL5-"
      },
      "outputs": [],
      "source": []
    }
  ],
  "metadata": {
    "colab": {
      "provenance": []
    },
    "kernelspec": {
      "display_name": "Python 3",
      "name": "python3"
    },
    "language_info": {
      "name": "python"
    }
  },
  "nbformat": 4,
  "nbformat_minor": 0
}
